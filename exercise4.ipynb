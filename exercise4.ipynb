{
 "cells": [
  {
   "cell_type": "code",
   "id": "initial_id",
   "metadata": {
    "collapsed": true,
    "ExecuteTime": {
     "end_time": "2025-03-12T04:37:39.815085Z",
     "start_time": "2025-03-12T04:37:38.516465Z"
    }
   },
   "source": [
    "import pandas as pd\n",
    "pd.set_option(\"display.max_rows\", 5)"
   ],
   "outputs": [],
   "execution_count": 1
  },
  {
   "metadata": {
    "ExecuteTime": {
     "end_time": "2025-03-12T04:37:41.565753Z",
     "start_time": "2025-03-12T04:37:39.823489Z"
    }
   },
   "cell_type": "code",
   "source": "reviews = pd.read_csv(\"../data/winemag-data/winemag-data-130k-v2.csv\", index_col=0)",
   "id": "4e25c90456bc4919",
   "outputs": [],
   "execution_count": 2
  },
  {
   "metadata": {},
   "cell_type": "markdown",
   "source": "#### 1 - Who are the most common wine reviewers in the dataset? Create a `Series` whose index is the `taster_twitter_handle` category from the dataset, and whose values count how many reviews each person wrote.",
   "id": "da016e127ef24394"
  },
  {
   "metadata": {
    "ExecuteTime": {
     "end_time": "2025-03-12T04:45:32.738121Z",
     "start_time": "2025-03-12T04:45:32.700489Z"
    }
   },
   "cell_type": "code",
   "source": "reviews_written = reviews.groupby(\"taster_twitter_handle\").taster_twitter_handle.count()",
   "id": "5d5247d7e5a54a3c",
   "outputs": [],
   "execution_count": 8
  },
  {
   "metadata": {},
   "cell_type": "markdown",
   "source": "#### 2 - What is the best wine I can buy for a given amount of money? Create a `Series` whose index is wine prices and whose values is the maximum number of points a wine costing that much was given in a review. Sort the values by price, ascending (so that `4.0` dollars is at the top and `3300.0` dollars is at the bottom).",
   "id": "25b98a6ebb8d74e"
  },
  {
   "metadata": {
    "ExecuteTime": {
     "end_time": "2025-03-12T04:54:02.390465Z",
     "start_time": "2025-03-12T04:54:02.373375Z"
    }
   },
   "cell_type": "code",
   "source": "test = reviews.groupby(\"price\").points.max()",
   "id": "e07974d253509edc",
   "outputs": [],
   "execution_count": 15
  },
  {
   "metadata": {},
   "cell_type": "markdown",
   "source": "#### 3 - What are the minimum and maximum prices for each `variety` of wine? Create a `DataFrame` whose index is the `variety` category from the dataset and whose values are the `min` and `max` values thereof.\n",
   "id": "d3d60da602c14e34"
  },
  {
   "metadata": {
    "ExecuteTime": {
     "end_time": "2025-03-12T04:56:07.635305Z",
     "start_time": "2025-03-12T04:56:07.576568Z"
    }
   },
   "cell_type": "code",
   "source": [
    "price_extremes = reviews.groupby(\"variety\")[\"price\"].agg([min, max])\n",
    "price_extremes"
   ],
   "id": "74da214ae4a8f693",
   "outputs": [
    {
     "name": "stderr",
     "output_type": "stream",
     "text": [
      "C:\\Users\\jeanm\\AppData\\Local\\Temp\\ipykernel_36176\\1744931110.py:1: FutureWarning: The provided callable <built-in function min> is currently using SeriesGroupBy.min. In a future version of pandas, the provided callable will be used directly. To keep current behavior pass the string \"min\" instead.\n",
      "  price_extremes = reviews.groupby(\"variety\")[\"price\"].agg([min, max])\n",
      "C:\\Users\\jeanm\\AppData\\Local\\Temp\\ipykernel_36176\\1744931110.py:1: FutureWarning: The provided callable <built-in function max> is currently using SeriesGroupBy.max. In a future version of pandas, the provided callable will be used directly. To keep current behavior pass the string \"max\" instead.\n",
      "  price_extremes = reviews.groupby(\"variety\")[\"price\"].agg([min, max])\n"
     ]
    },
    {
     "data": {
      "text/plain": [
       "              min   max\n",
       "variety                \n",
       "Abouriou     15.0  75.0\n",
       "Agiorgitiko  10.0  66.0\n",
       "...           ...   ...\n",
       "Çalkarası    19.0  19.0\n",
       "Žilavka      15.0  15.0\n",
       "\n",
       "[707 rows x 2 columns]"
      ],
      "text/html": [
       "<div>\n",
       "<style scoped>\n",
       "    .dataframe tbody tr th:only-of-type {\n",
       "        vertical-align: middle;\n",
       "    }\n",
       "\n",
       "    .dataframe tbody tr th {\n",
       "        vertical-align: top;\n",
       "    }\n",
       "\n",
       "    .dataframe thead th {\n",
       "        text-align: right;\n",
       "    }\n",
       "</style>\n",
       "<table border=\"1\" class=\"dataframe\">\n",
       "  <thead>\n",
       "    <tr style=\"text-align: right;\">\n",
       "      <th></th>\n",
       "      <th>min</th>\n",
       "      <th>max</th>\n",
       "    </tr>\n",
       "    <tr>\n",
       "      <th>variety</th>\n",
       "      <th></th>\n",
       "      <th></th>\n",
       "    </tr>\n",
       "  </thead>\n",
       "  <tbody>\n",
       "    <tr>\n",
       "      <th>Abouriou</th>\n",
       "      <td>15.0</td>\n",
       "      <td>75.0</td>\n",
       "    </tr>\n",
       "    <tr>\n",
       "      <th>Agiorgitiko</th>\n",
       "      <td>10.0</td>\n",
       "      <td>66.0</td>\n",
       "    </tr>\n",
       "    <tr>\n",
       "      <th>...</th>\n",
       "      <td>...</td>\n",
       "      <td>...</td>\n",
       "    </tr>\n",
       "    <tr>\n",
       "      <th>Çalkarası</th>\n",
       "      <td>19.0</td>\n",
       "      <td>19.0</td>\n",
       "    </tr>\n",
       "    <tr>\n",
       "      <th>Žilavka</th>\n",
       "      <td>15.0</td>\n",
       "      <td>15.0</td>\n",
       "    </tr>\n",
       "  </tbody>\n",
       "</table>\n",
       "<p>707 rows × 2 columns</p>\n",
       "</div>"
      ]
     },
     "execution_count": 17,
     "metadata": {},
     "output_type": "execute_result"
    }
   ],
   "execution_count": 17
  },
  {
   "metadata": {},
   "cell_type": "markdown",
   "source": "#### 4 - What are the most expensive wine varieties? Create a variable `sorted_varieties` containing a copy of the dataframe from the previous question where varieties are sorted in descending order based on minimum price, then on maximum price (to break ties).",
   "id": "2b035a188bff4148"
  },
  {
   "metadata": {
    "ExecuteTime": {
     "end_time": "2025-03-12T04:59:18.746852Z",
     "start_time": "2025-03-12T04:59:18.733004Z"
    }
   },
   "cell_type": "code",
   "source": "sorted_varieties = price_extremes.sort_values(by=['min','max'], ascending=False)",
   "id": "c3de8f17d33de5ce",
   "outputs": [],
   "execution_count": 18
  },
  {
   "metadata": {},
   "cell_type": "markdown",
   "source": "#### 5 - Create a `Series` whose index is reviewers and whose values is the average review score given out by that reviewer. Hint: you will need the `taster_name` and `points` columns.",
   "id": "87fcdc9960de8a4c"
  },
  {
   "metadata": {
    "ExecuteTime": {
     "end_time": "2025-03-12T05:02:57.349722Z",
     "start_time": "2025-03-12T05:02:57.313234Z"
    }
   },
   "cell_type": "code",
   "source": [
    "reviewer_mean_ratings = reviews.groupby(\"taster_name\")[\"points\"].mean()\n",
    "reviewer_mean_ratings"
   ],
   "id": "9f621c1774ad6d72",
   "outputs": [
    {
     "data": {
      "text/plain": [
       "taster_name\n",
       "Alexander Peartree    85.855422\n",
       "Anna Lee C. Iijima    88.415629\n",
       "                        ...    \n",
       "Susan Kostrzewa       86.609217\n",
       "Virginie Boone        89.213379\n",
       "Name: points, Length: 19, dtype: float64"
      ]
     },
     "execution_count": 22,
     "metadata": {},
     "output_type": "execute_result"
    }
   ],
   "execution_count": 22
  },
  {
   "metadata": {},
   "cell_type": "markdown",
   "source": "#### 6 - Are there significant differences in the average scores assigned by the various reviewers? Run the cell below to use the `describe()` method to see a summary of the range of values.",
   "id": "76dd4e7a5d15e8b8"
  },
  {
   "metadata": {
    "ExecuteTime": {
     "end_time": "2025-03-12T05:03:58.167648Z",
     "start_time": "2025-03-12T05:03:58.149597Z"
    }
   },
   "cell_type": "code",
   "source": "reviewer_mean_ratings.describe()",
   "id": "76f249948192612e",
   "outputs": [
    {
     "data": {
      "text/plain": [
       "count    19.000000\n",
       "mean     88.233026\n",
       "           ...    \n",
       "75%      88.975256\n",
       "max      90.562551\n",
       "Name: points, Length: 8, dtype: float64"
      ]
     },
     "execution_count": 23,
     "metadata": {},
     "output_type": "execute_result"
    }
   ],
   "execution_count": 23
  },
  {
   "metadata": {},
   "cell_type": "markdown",
   "source": "#### 7 - What combination of countries and varieties are most common? Create a `Series` whose index is a `MultiIndex`of `{country, variety}` pairs. For example, a pinot noir produced in the US should map to `{\"US\", \"Pinot Noir\"}`. Sort the values in the `Series` in descending order based on wine count.",
   "id": "f47acb22bdc9a338"
  },
  {
   "metadata": {
    "ExecuteTime": {
     "end_time": "2025-03-12T05:10:14.334061Z",
     "start_time": "2025-03-12T05:10:14.279573Z"
    }
   },
   "cell_type": "code",
   "source": "country_variety_counts = reviews.groupby([\"country\", \"variety\"]).size().sort_values(ascending=False)",
   "id": "56ad7121876356dc",
   "outputs": [],
   "execution_count": 28
  },
  {
   "metadata": {},
   "cell_type": "code",
   "outputs": [],
   "execution_count": null,
   "source": "",
   "id": "b1ab813dda962a44"
  }
 ],
 "metadata": {
  "kernelspec": {
   "display_name": "Python 3",
   "language": "python",
   "name": "python3"
  },
  "language_info": {
   "codemirror_mode": {
    "name": "ipython",
    "version": 2
   },
   "file_extension": ".py",
   "mimetype": "text/x-python",
   "name": "python",
   "nbconvert_exporter": "python",
   "pygments_lexer": "ipython2",
   "version": "2.7.6"
  }
 },
 "nbformat": 4,
 "nbformat_minor": 5
}
