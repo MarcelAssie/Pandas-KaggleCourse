{
 "cells": [
  {
   "metadata": {
    "ExecuteTime": {
     "end_time": "2025-03-09T14:15:58.195564Z",
     "start_time": "2025-03-09T14:15:57.111490Z"
    }
   },
   "cell_type": "code",
   "source": "import pandas as pd",
   "id": "d8e8ae24866a621f",
   "outputs": [],
   "execution_count": 1
  },
  {
   "metadata": {
    "collapsed": true,
    "ExecuteTime": {
     "end_time": "2025-03-09T14:41:33.625405Z",
     "start_time": "2025-03-09T14:41:32.042332Z"
    }
   },
   "cell_type": "code",
   "source": [
    "reviews = pd.read_csv(\"../data/winemag-data/winemag-data-130k-v2.csv\", index_col=0)\n",
    "pd.set_option(\"display.max_rows\", 5)\n",
    "display(reviews)"
   ],
   "id": "initial_id",
   "outputs": [
    {
     "data": {
      "text/plain": [
       "         country                                        description  \\\n",
       "0          Italy  Aromas include tropical fruit, broom, brimston...   \n",
       "1       Portugal  This is ripe and fruity, a wine that is smooth...   \n",
       "...          ...                                                ...   \n",
       "129969    France  A dry style of Pinot Gris, this is crisp with ...   \n",
       "129970    France  Big, rich and off-dry, this is powered by inte...   \n",
       "\n",
       "                          designation  points  price           province  \\\n",
       "0                        Vulkà Bianco      87    NaN  Sicily & Sardinia   \n",
       "1                            Avidagos      87   15.0              Douro   \n",
       "...                               ...     ...    ...                ...   \n",
       "129969                            NaN      90   32.0             Alsace   \n",
       "129970  Lieu-dit Harth Cuvée Caroline      90   21.0             Alsace   \n",
       "\n",
       "       region_1 region_2    taster_name taster_twitter_handle  \\\n",
       "0          Etna      NaN  Kerin O’Keefe          @kerinokeefe   \n",
       "1           NaN      NaN     Roger Voss            @vossroger   \n",
       "...         ...      ...            ...                   ...   \n",
       "129969   Alsace      NaN     Roger Voss            @vossroger   \n",
       "129970   Alsace      NaN     Roger Voss            @vossroger   \n",
       "\n",
       "                                                    title         variety  \\\n",
       "0                       Nicosia 2013 Vulkà Bianco  (Etna)     White Blend   \n",
       "1           Quinta dos Avidagos 2011 Avidagos Red (Douro)  Portuguese Red   \n",
       "...                                                   ...             ...   \n",
       "129969      Domaine Marcel Deiss 2012 Pinot Gris (Alsace)      Pinot Gris   \n",
       "129970  Domaine Schoffit 2012 Lieu-dit Harth Cuvée Car...  Gewürztraminer   \n",
       "\n",
       "                      winery  \n",
       "0                    Nicosia  \n",
       "1        Quinta dos Avidagos  \n",
       "...                      ...  \n",
       "129969  Domaine Marcel Deiss  \n",
       "129970      Domaine Schoffit  \n",
       "\n",
       "[129971 rows x 13 columns]"
      ],
      "text/html": [
       "<div>\n",
       "<style scoped>\n",
       "    .dataframe tbody tr th:only-of-type {\n",
       "        vertical-align: middle;\n",
       "    }\n",
       "\n",
       "    .dataframe tbody tr th {\n",
       "        vertical-align: top;\n",
       "    }\n",
       "\n",
       "    .dataframe thead th {\n",
       "        text-align: right;\n",
       "    }\n",
       "</style>\n",
       "<table border=\"1\" class=\"dataframe\">\n",
       "  <thead>\n",
       "    <tr style=\"text-align: right;\">\n",
       "      <th></th>\n",
       "      <th>country</th>\n",
       "      <th>description</th>\n",
       "      <th>designation</th>\n",
       "      <th>points</th>\n",
       "      <th>price</th>\n",
       "      <th>province</th>\n",
       "      <th>region_1</th>\n",
       "      <th>region_2</th>\n",
       "      <th>taster_name</th>\n",
       "      <th>taster_twitter_handle</th>\n",
       "      <th>title</th>\n",
       "      <th>variety</th>\n",
       "      <th>winery</th>\n",
       "    </tr>\n",
       "  </thead>\n",
       "  <tbody>\n",
       "    <tr>\n",
       "      <th>0</th>\n",
       "      <td>Italy</td>\n",
       "      <td>Aromas include tropical fruit, broom, brimston...</td>\n",
       "      <td>Vulkà Bianco</td>\n",
       "      <td>87</td>\n",
       "      <td>NaN</td>\n",
       "      <td>Sicily &amp; Sardinia</td>\n",
       "      <td>Etna</td>\n",
       "      <td>NaN</td>\n",
       "      <td>Kerin O’Keefe</td>\n",
       "      <td>@kerinokeefe</td>\n",
       "      <td>Nicosia 2013 Vulkà Bianco  (Etna)</td>\n",
       "      <td>White Blend</td>\n",
       "      <td>Nicosia</td>\n",
       "    </tr>\n",
       "    <tr>\n",
       "      <th>1</th>\n",
       "      <td>Portugal</td>\n",
       "      <td>This is ripe and fruity, a wine that is smooth...</td>\n",
       "      <td>Avidagos</td>\n",
       "      <td>87</td>\n",
       "      <td>15.0</td>\n",
       "      <td>Douro</td>\n",
       "      <td>NaN</td>\n",
       "      <td>NaN</td>\n",
       "      <td>Roger Voss</td>\n",
       "      <td>@vossroger</td>\n",
       "      <td>Quinta dos Avidagos 2011 Avidagos Red (Douro)</td>\n",
       "      <td>Portuguese Red</td>\n",
       "      <td>Quinta dos Avidagos</td>\n",
       "    </tr>\n",
       "    <tr>\n",
       "      <th>...</th>\n",
       "      <td>...</td>\n",
       "      <td>...</td>\n",
       "      <td>...</td>\n",
       "      <td>...</td>\n",
       "      <td>...</td>\n",
       "      <td>...</td>\n",
       "      <td>...</td>\n",
       "      <td>...</td>\n",
       "      <td>...</td>\n",
       "      <td>...</td>\n",
       "      <td>...</td>\n",
       "      <td>...</td>\n",
       "      <td>...</td>\n",
       "    </tr>\n",
       "    <tr>\n",
       "      <th>129969</th>\n",
       "      <td>France</td>\n",
       "      <td>A dry style of Pinot Gris, this is crisp with ...</td>\n",
       "      <td>NaN</td>\n",
       "      <td>90</td>\n",
       "      <td>32.0</td>\n",
       "      <td>Alsace</td>\n",
       "      <td>Alsace</td>\n",
       "      <td>NaN</td>\n",
       "      <td>Roger Voss</td>\n",
       "      <td>@vossroger</td>\n",
       "      <td>Domaine Marcel Deiss 2012 Pinot Gris (Alsace)</td>\n",
       "      <td>Pinot Gris</td>\n",
       "      <td>Domaine Marcel Deiss</td>\n",
       "    </tr>\n",
       "    <tr>\n",
       "      <th>129970</th>\n",
       "      <td>France</td>\n",
       "      <td>Big, rich and off-dry, this is powered by inte...</td>\n",
       "      <td>Lieu-dit Harth Cuvée Caroline</td>\n",
       "      <td>90</td>\n",
       "      <td>21.0</td>\n",
       "      <td>Alsace</td>\n",
       "      <td>Alsace</td>\n",
       "      <td>NaN</td>\n",
       "      <td>Roger Voss</td>\n",
       "      <td>@vossroger</td>\n",
       "      <td>Domaine Schoffit 2012 Lieu-dit Harth Cuvée Car...</td>\n",
       "      <td>Gewürztraminer</td>\n",
       "      <td>Domaine Schoffit</td>\n",
       "    </tr>\n",
       "  </tbody>\n",
       "</table>\n",
       "<p>129971 rows × 13 columns</p>\n",
       "</div>"
      ]
     },
     "metadata": {},
     "output_type": "display_data"
    }
   ],
   "execution_count": 16
  },
  {
   "metadata": {},
   "cell_type": "markdown",
   "source": "#### 1 - the description column from reviews and assign the result to the variable desc.",
   "id": "6b869d2d47c6da86"
  },
  {
   "metadata": {
    "ExecuteTime": {
     "end_time": "2025-03-09T14:20:00.344890Z",
     "start_time": "2025-03-09T14:20:00.333554Z"
    }
   },
   "cell_type": "code",
   "source": [
    "desc = reviews[\"description\"]\n",
    "print(desc)"
   ],
   "id": "7a926189baea6555",
   "outputs": [
    {
     "name": "stdout",
     "output_type": "stream",
     "text": [
      "0         Aromas include tropical fruit, broom, brimston...\n",
      "1         This is ripe and fruity, a wine that is smooth...\n",
      "                                ...                        \n",
      "129969    A dry style of Pinot Gris, this is crisp with ...\n",
      "129970    Big, rich and off-dry, this is powered by inte...\n",
      "Name: description, Length: 129971, dtype: object\n"
     ]
    }
   ],
   "execution_count": 8
  },
  {
   "metadata": {},
   "cell_type": "markdown",
   "source": "#### Select the first value from the description column of reviews, assigning it to variable first_description.",
   "id": "7b213354d6629bfd"
  },
  {
   "metadata": {},
   "cell_type": "code",
   "outputs": [],
   "execution_count": null,
   "source": "first_description = desc[0]",
   "id": "3f3117ba3a20c026"
  },
  {
   "metadata": {},
   "cell_type": "markdown",
   "source": "#### 3 - Select the first row of data (the first record) from `reviews`, assigning it to the variable `first_row`.",
   "id": "937baa791a3b84d"
  },
  {
   "metadata": {
    "ExecuteTime": {
     "end_time": "2025-03-09T14:22:32.855697Z",
     "start_time": "2025-03-09T14:22:32.844430Z"
    }
   },
   "cell_type": "code",
   "source": [
    "first_row = reviews.iloc[0]\n",
    "print(first_row)"
   ],
   "id": "b8c7ab122575abd0",
   "outputs": [
    {
     "name": "stdout",
     "output_type": "stream",
     "text": [
      "country                                                    Italy\n",
      "description    Aromas include tropical fruit, broom, brimston...\n",
      "                                     ...                        \n",
      "variety                                              White Blend\n",
      "winery                                                   Nicosia\n",
      "Name: 0, Length: 13, dtype: object\n"
     ]
    }
   ],
   "execution_count": 9
  },
  {
   "metadata": {},
   "cell_type": "markdown",
   "source": "#### 4 - Select the first 10 values from the `description` column in `reviews`, assigning the result to variable `first_descriptions`.",
   "id": "963c2bd00cb83c78"
  },
  {
   "metadata": {
    "ExecuteTime": {
     "end_time": "2025-03-09T14:23:50.253591Z",
     "start_time": "2025-03-09T14:23:50.245036Z"
    }
   },
   "cell_type": "code",
   "source": "first_descriptions = desc[:10]",
   "id": "de9ce3f80829d8b5",
   "outputs": [],
   "execution_count": 10
  },
  {
   "metadata": {},
   "cell_type": "markdown",
   "source": "#### 5 - Select the records with index labels `1`, `2`, `3`, `5`, and `8`, assigning the result to the variable `sample_reviews`",
   "id": "f7e58203a9dcd8d"
  },
  {
   "metadata": {
    "ExecuteTime": {
     "end_time": "2025-03-09T14:25:35.115374Z",
     "start_time": "2025-03-09T14:25:35.105326Z"
    }
   },
   "cell_type": "code",
   "source": "sample_reviews = reviews.iloc[[1,2,3,5,8]]",
   "id": "467d78bed5550d04",
   "outputs": [],
   "execution_count": 11
  },
  {
   "metadata": {},
   "cell_type": "markdown",
   "source": "#### 6 -Create a variable `df` containing the `country`, `province`, `region_1`, and `region_2` columns of the records with the index labels `0`, `1`, `10`, and `100`.\n",
   "id": "176347aea625b66d"
  },
  {
   "metadata": {},
   "cell_type": "code",
   "outputs": [],
   "execution_count": null,
   "source": "df = reviews.loc[[0,1,10,100],[\"country\", \"province\", \"region_1\", \"region_2\"]]",
   "id": "c900bdfd2e5c0595"
  },
  {
   "metadata": {},
   "cell_type": "markdown",
   "source": "#### 7 - Create a variable df containing the country and variety columns of the first 100 records",
   "id": "f688963b64322148"
  },
  {
   "metadata": {
    "ExecuteTime": {
     "end_time": "2025-03-09T14:37:52.125195Z",
     "start_time": "2025-03-09T14:37:52.111151Z"
    }
   },
   "cell_type": "code",
   "source": "df2 = reviews.loc[:99, [\"country\", \"variety\"]]",
   "id": "6a127cec471e66a8",
   "outputs": [],
   "execution_count": 14
  },
  {
   "metadata": {},
   "cell_type": "markdown",
   "source": "#### 8. Create a DataFrame `italian_wines` containing reviews of wines made in `Italy`",
   "id": "6e15786ff0c5808b"
  },
  {
   "metadata": {},
   "cell_type": "code",
   "outputs": [],
   "execution_count": null,
   "source": "italian_wines = reviews.loc[reviews.country == \"Italy\"]",
   "id": "87dcf4240f6aa356"
  },
  {
   "metadata": {},
   "cell_type": "markdown",
   "source": "#### 9 - Create a DataFrame top_oceania_wines containing all reviews with at least 95 points (out of 100) for wines from Australia or New Zealand.",
   "id": "ea4465da051da9ee"
  },
  {
   "metadata": {
    "ExecuteTime": {
     "end_time": "2025-03-09T14:46:15.888188Z",
     "start_time": "2025-03-09T14:46:15.871773Z"
    }
   },
   "cell_type": "code",
   "source": "top_oceania_wines = reviews.loc[(reviews.country.isin([\"Australia\", \"New Zealand\"])) & (reviews.points >=95)]",
   "id": "a883e8c92901eae9",
   "outputs": [],
   "execution_count": 17
  }
 ],
 "metadata": {
  "kernelspec": {
   "display_name": "Python 3",
   "language": "python",
   "name": "python3"
  },
  "language_info": {
   "codemirror_mode": {
    "name": "ipython",
    "version": 2
   },
   "file_extension": ".py",
   "mimetype": "text/x-python",
   "name": "python",
   "nbconvert_exporter": "python",
   "pygments_lexer": "ipython2",
   "version": "2.7.6"
  }
 },
 "nbformat": 4,
 "nbformat_minor": 5
}
