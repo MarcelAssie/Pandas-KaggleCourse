{
 "cells": [
  {
   "cell_type": "code",
   "id": "initial_id",
   "metadata": {
    "collapsed": true
   },
   "source": "import pandas as pd",
   "outputs": [],
   "execution_count": null
  },
  {
   "metadata": {},
   "cell_type": "code",
   "source": [
    "fruits = pd.DataFrame({\"Apples\": [30], \"Bananas\":[21]})\n",
    "display(fruits)"
   ],
   "id": "f81777e22f60a07e",
   "outputs": [],
   "execution_count": null
  },
  {
   "metadata": {},
   "cell_type": "code",
   "source": [
    "fruit_sales = pd.DataFrame({\"Apples\": [35, 41], \"Bananas\":[21, 34]}, index=[\"2017 Sales\", \"2018 Sales\"])\n",
    "display(fruit_sales)"
   ],
   "id": "79c97aac5cae8229",
   "outputs": [],
   "execution_count": null
  },
  {
   "metadata": {},
   "cell_type": "code",
   "source": [
    "ingredients = pd.Series([\"4 cups\", \"1 cup\", \"2 large\", \"1 can\"], index=[\"Flour\",\"Milk\", \"Eggs\", \"Spam\"], name=\"Dinner\")\n",
    "print(ingredients)"
   ],
   "id": "c5cadb6c4f63e0a6",
   "outputs": [],
   "execution_count": null
  },
  {
   "metadata": {},
   "cell_type": "code",
   "source": [
    "reviews = pd.read_csv(\"../data/winemag-data/winemag-data_first150k.csv\", index_col=0)\n",
    "reviews.head()"
   ],
   "id": "9d4d38846580ad4c",
   "outputs": [],
   "execution_count": null
  },
  {
   "metadata": {},
   "cell_type": "code",
   "source": [
    "animals = pd.DataFrame({'Cows': [12, 20], 'Goats': [22, 19]}, index=['Year 1', 'Year 2'])\n",
    "animals.to_csv(\"cows_and_goats.csv\")"
   ],
   "id": "3e2c1d2747d91296",
   "outputs": [],
   "execution_count": null
  }
 ],
 "metadata": {
  "kernelspec": {
   "display_name": "Python 3",
   "language": "python",
   "name": "python3"
  },
  "language_info": {
   "codemirror_mode": {
    "name": "ipython",
    "version": 2
   },
   "file_extension": ".py",
   "mimetype": "text/x-python",
   "name": "python",
   "nbconvert_exporter": "python",
   "pygments_lexer": "ipython2",
   "version": "2.7.6"
  }
 },
 "nbformat": 4,
 "nbformat_minor": 5
}
