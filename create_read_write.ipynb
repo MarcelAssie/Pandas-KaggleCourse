{
 "cells": [
  {
   "cell_type": "code",
   "id": "initial_id",
   "metadata": {
    "collapsed": true,
    "ExecuteTime": {
     "end_time": "2025-03-05T00:10:43.185035Z",
     "start_time": "2025-03-05T00:10:41.848913Z"
    }
   },
   "source": "import pandas as pd",
   "outputs": [],
   "execution_count": 3
  },
  {
   "metadata": {
    "ExecuteTime": {
     "end_time": "2025-03-05T00:11:28.706613Z",
     "start_time": "2025-03-05T00:11:28.660837Z"
    }
   },
   "cell_type": "code",
   "source": [
    "data1 = pd.DataFrame({\"Yes\" : [50, 21], \"No\" : [131, 2]})\n",
    "display(data1)"
   ],
   "id": "e69a7eea2d5c458",
   "outputs": [
    {
     "data": {
      "text/plain": [
       "   Yes   No\n",
       "0   50  131\n",
       "1   21    2"
      ],
      "text/html": [
       "<div>\n",
       "<style scoped>\n",
       "    .dataframe tbody tr th:only-of-type {\n",
       "        vertical-align: middle;\n",
       "    }\n",
       "\n",
       "    .dataframe tbody tr th {\n",
       "        vertical-align: top;\n",
       "    }\n",
       "\n",
       "    .dataframe thead th {\n",
       "        text-align: right;\n",
       "    }\n",
       "</style>\n",
       "<table border=\"1\" class=\"dataframe\">\n",
       "  <thead>\n",
       "    <tr style=\"text-align: right;\">\n",
       "      <th></th>\n",
       "      <th>Yes</th>\n",
       "      <th>No</th>\n",
       "    </tr>\n",
       "  </thead>\n",
       "  <tbody>\n",
       "    <tr>\n",
       "      <th>0</th>\n",
       "      <td>50</td>\n",
       "      <td>131</td>\n",
       "    </tr>\n",
       "    <tr>\n",
       "      <th>1</th>\n",
       "      <td>21</td>\n",
       "      <td>2</td>\n",
       "    </tr>\n",
       "  </tbody>\n",
       "</table>\n",
       "</div>"
      ]
     },
     "metadata": {},
     "output_type": "display_data"
    }
   ],
   "execution_count": 4
  },
  {
   "metadata": {
    "ExecuteTime": {
     "end_time": "2025-03-05T00:13:24.174203Z",
     "start_time": "2025-03-05T00:13:24.161114Z"
    }
   },
   "cell_type": "code",
   "source": [
    "data2 = pd.DataFrame({\"Bob\" : ['I liked it', 'It was awful'], \"Sue\" : ['Pretty Good', 'Bland']})\n",
    "display(data2)"
   ],
   "id": "4456401009bc36a2",
   "outputs": [
    {
     "data": {
      "text/plain": [
       "            Bob          Sue\n",
       "0    I liked it  Pretty Good\n",
       "1  It was awful        Bland"
      ],
      "text/html": [
       "<div>\n",
       "<style scoped>\n",
       "    .dataframe tbody tr th:only-of-type {\n",
       "        vertical-align: middle;\n",
       "    }\n",
       "\n",
       "    .dataframe tbody tr th {\n",
       "        vertical-align: top;\n",
       "    }\n",
       "\n",
       "    .dataframe thead th {\n",
       "        text-align: right;\n",
       "    }\n",
       "</style>\n",
       "<table border=\"1\" class=\"dataframe\">\n",
       "  <thead>\n",
       "    <tr style=\"text-align: right;\">\n",
       "      <th></th>\n",
       "      <th>Bob</th>\n",
       "      <th>Sue</th>\n",
       "    </tr>\n",
       "  </thead>\n",
       "  <tbody>\n",
       "    <tr>\n",
       "      <th>0</th>\n",
       "      <td>I liked it</td>\n",
       "      <td>Pretty Good</td>\n",
       "    </tr>\n",
       "    <tr>\n",
       "      <th>1</th>\n",
       "      <td>It was awful</td>\n",
       "      <td>Bland</td>\n",
       "    </tr>\n",
       "  </tbody>\n",
       "</table>\n",
       "</div>"
      ]
     },
     "metadata": {},
     "output_type": "display_data"
    }
   ],
   "execution_count": 8
  },
  {
   "metadata": {
    "ExecuteTime": {
     "end_time": "2025-03-05T00:14:51.503398Z",
     "start_time": "2025-03-05T00:14:51.487813Z"
    }
   },
   "cell_type": "code",
   "source": [
    "data3 = pd.DataFrame({\"Bob\" : ['I liked it', 'It was awful'], \"Sue\" : ['Pretty Good', 'Bland']}, index=[\"Product A\", \"Product B\"])\n",
    "display(data3)"
   ],
   "id": "453de031af7bbb26",
   "outputs": [
    {
     "data": {
      "text/plain": [
       "                    Bob          Sue\n",
       "Product A    I liked it  Pretty Good\n",
       "Product B  It was awful        Bland"
      ],
      "text/html": [
       "<div>\n",
       "<style scoped>\n",
       "    .dataframe tbody tr th:only-of-type {\n",
       "        vertical-align: middle;\n",
       "    }\n",
       "\n",
       "    .dataframe tbody tr th {\n",
       "        vertical-align: top;\n",
       "    }\n",
       "\n",
       "    .dataframe thead th {\n",
       "        text-align: right;\n",
       "    }\n",
       "</style>\n",
       "<table border=\"1\" class=\"dataframe\">\n",
       "  <thead>\n",
       "    <tr style=\"text-align: right;\">\n",
       "      <th></th>\n",
       "      <th>Bob</th>\n",
       "      <th>Sue</th>\n",
       "    </tr>\n",
       "  </thead>\n",
       "  <tbody>\n",
       "    <tr>\n",
       "      <th>Product A</th>\n",
       "      <td>I liked it</td>\n",
       "      <td>Pretty Good</td>\n",
       "    </tr>\n",
       "    <tr>\n",
       "      <th>Product B</th>\n",
       "      <td>It was awful</td>\n",
       "      <td>Bland</td>\n",
       "    </tr>\n",
       "  </tbody>\n",
       "</table>\n",
       "</div>"
      ]
     },
     "metadata": {},
     "output_type": "display_data"
    }
   ],
   "execution_count": 11
  },
  {
   "metadata": {
    "ExecuteTime": {
     "end_time": "2025-03-05T00:15:55.125512Z",
     "start_time": "2025-03-05T00:15:55.114995Z"
    }
   },
   "cell_type": "code",
   "source": [
    "serie1 = pd.Series([\"Product A\", \"Product B\"])\n",
    "print(serie1)"
   ],
   "id": "4cd10c0deee58394",
   "outputs": [
    {
     "name": "stdout",
     "output_type": "stream",
     "text": [
      "0    Product A\n",
      "1    Product B\n",
      "dtype: object\n"
     ]
    }
   ],
   "execution_count": 13
  },
  {
   "metadata": {
    "ExecuteTime": {
     "end_time": "2025-03-05T00:18:14.341387Z",
     "start_time": "2025-03-05T00:18:14.331936Z"
    }
   },
   "cell_type": "code",
   "source": [
    "serie2 = pd.Series([30, 35, 40], index=[\"2015 Sales\", \"2016 Sales\", \"2017 Sales\"], name=\"Product A\")\n",
    "print(serie2)"
   ],
   "id": "7682a509bba8c389",
   "outputs": [
    {
     "name": "stdout",
     "output_type": "stream",
     "text": [
      "2015 Sales    30\n",
      "2016 Sales    35\n",
      "2017 Sales    40\n",
      "Name: Product A, dtype: int64\n"
     ]
    }
   ],
   "execution_count": 15
  },
  {
   "metadata": {
    "ExecuteTime": {
     "end_time": "2025-03-05T00:40:36.798326Z",
     "start_time": "2025-03-05T00:40:35.099033Z"
    }
   },
   "cell_type": "code",
   "source": [
    "wine_reviews = pd.read_csv(\"../data/winemag-data/winemag-data-130k-v2.csv\")\n",
    "# wine_reviews.head()\n",
    "wine_reviews.shape"
   ],
   "id": "cde104d4bd8bb129",
   "outputs": [
    {
     "data": {
      "text/plain": [
       "(129971, 14)"
      ]
     },
     "execution_count": 20,
     "metadata": {},
     "output_type": "execute_result"
    }
   ],
   "execution_count": 20
  },
  {
   "metadata": {},
   "cell_type": "code",
   "outputs": [],
   "execution_count": null,
   "source": "",
   "id": "360dc96b140b5c8d"
  }
 ],
 "metadata": {
  "kernelspec": {
   "display_name": "Python 3",
   "language": "python",
   "name": "python3"
  },
  "language_info": {
   "codemirror_mode": {
    "name": "ipython",
    "version": 2
   },
   "file_extension": ".py",
   "mimetype": "text/x-python",
   "name": "python",
   "nbconvert_exporter": "python",
   "pygments_lexer": "ipython2",
   "version": "2.7.6"
  }
 },
 "nbformat": 4,
 "nbformat_minor": 5
}
