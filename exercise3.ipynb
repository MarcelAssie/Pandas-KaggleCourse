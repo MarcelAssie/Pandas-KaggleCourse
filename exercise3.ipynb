{
 "cells": [
  {
   "cell_type": "code",
   "id": "initial_id",
   "metadata": {
    "collapsed": true,
    "ExecuteTime": {
     "end_time": "2025-03-09T22:24:25.064846Z",
     "start_time": "2025-03-09T22:24:25.055458Z"
    }
   },
   "source": [
    "import pandas as pd\n",
    "pd.set_option('display.max_rows',5)"
   ],
   "outputs": [],
   "execution_count": 3
  },
  {
   "metadata": {
    "ExecuteTime": {
     "end_time": "2025-03-09T22:24:27.270682Z",
     "start_time": "2025-03-09T22:24:25.535919Z"
    }
   },
   "cell_type": "code",
   "source": "reviews = pd.read_csv(\"../data/winemag-data/winemag-data-130k-v2.csv\", index_col=0)",
   "id": "d9ec7203866ac4af",
   "outputs": [],
   "execution_count": 4
  },
  {
   "metadata": {},
   "cell_type": "markdown",
   "source": "#### 1 - What is the median of the `points` column in the `reviews` DataFrame?",
   "id": "2c8d753162d7c0d4"
  },
  {
   "metadata": {
    "ExecuteTime": {
     "end_time": "2025-03-09T22:25:54.080371Z",
     "start_time": "2025-03-09T22:25:54.066748Z"
    }
   },
   "cell_type": "code",
   "source": "median_points = reviews.points.median()",
   "id": "89d730a0bd6ec54b",
   "outputs": [],
   "execution_count": 5
  },
  {
   "metadata": {},
   "cell_type": "markdown",
   "source": "#### 2 - What countries are represented in the dataset? (Your answer should not include any duplicates.)",
   "id": "3394da6f77f55b9a"
  },
  {
   "metadata": {
    "ExecuteTime": {
     "end_time": "2025-03-09T22:26:47.423578Z",
     "start_time": "2025-03-09T22:26:47.407837Z"
    }
   },
   "cell_type": "code",
   "source": "countries = reviews.country.unique()",
   "id": "ca8ff4391842bb9c",
   "outputs": [],
   "execution_count": 6
  },
  {
   "metadata": {},
   "cell_type": "markdown",
   "source": "#### 3 - How often does each country appear in the dataset? Create a Series `reviews_per_country` mapping countries to the count of reviews of wines from that country.",
   "id": "a0530eb71b9bb1bb"
  },
  {
   "metadata": {
    "ExecuteTime": {
     "end_time": "2025-03-09T22:30:14.477726Z",
     "start_time": "2025-03-09T22:30:14.458573Z"
    }
   },
   "cell_type": "code",
   "source": "reviews_per_country = reviews.country.value_counts()",
   "id": "5d7dcb8908db419e",
   "outputs": [],
   "execution_count": 7
  },
  {
   "metadata": {},
   "cell_type": "markdown",
   "source": "#### 4 - Create variable `centered_price` containing a version of the `price` column with the mean price subtracted.",
   "id": "dbbc4f9c1ceb06c0"
  },
  {
   "metadata": {
    "ExecuteTime": {
     "end_time": "2025-03-09T22:36:28.882846Z",
     "start_time": "2025-03-09T22:34:34.017391Z"
    }
   },
   "cell_type": "code",
   "source": [
    "centered_price = reviews.price.map(lambda x: x - reviews.price.mean())\n",
    "# or reviews.price - reviews.price.mean()"
   ],
   "id": "418c536d6e10db79",
   "outputs": [],
   "execution_count": 8
  },
  {
   "metadata": {},
   "cell_type": "markdown",
   "source": "#### I'm an economical wine buyer. Which wine is the \"best bargain\"? Create a variable `bargain_wine` with the title of the wine with the highest points-to-price ratio in the dataset.",
   "id": "39a288431284aabe"
  },
  {
   "metadata": {
    "ExecuteTime": {
     "end_time": "2025-03-09T22:45:35.494854Z",
     "start_time": "2025-03-09T22:45:35.476686Z"
    }
   },
   "cell_type": "code",
   "source": [
    "bargain_idx = (reviews.points / reviews.price).idxmax()\n",
    "bargain_wine = reviews.loc[bargain_idx, 'title']"
   ],
   "id": "2417a93f0153230f",
   "outputs": [],
   "execution_count": 16
  },
  {
   "metadata": {},
   "cell_type": "markdown",
   "source": " #### 6 - There are only so many words you can use when describing a bottle of wine. Is a wine more likely to be \"tropical\" or \"fruity\"? Create a Series `descriptor_counts` counting how many times each of these two words appears in the `description` column in the dataset. (For simplicity, let's ignore the capitalized versions of these words.)",
   "id": "a8f5c77581327f99"
  },
  {
   "metadata": {
    "ExecuteTime": {
     "end_time": "2025-03-09T23:06:58.463143Z",
     "start_time": "2025-03-09T23:06:58.256708Z"
    }
   },
   "cell_type": "code",
   "source": [
    "n_trop = reviews.description.map(lambda desc: \"tropical\" in desc).sum()\n",
    "n_fruity = reviews.description.map(lambda desc: \"fruity\" in desc).sum()\n",
    "descriptor_counts = pd.Series([n_trop, n_fruity], index=['tropical', 'fruity'])"
   ],
   "id": "6824564d53c5f6b9",
   "outputs": [],
   "execution_count": 30
  },
  {
   "metadata": {},
   "cell_type": "markdown",
   "source": [
    "#### 7 - We'd like to host these wine reviews on our website, but a rating system ranging from 80 to 100 points is too hard to understand - we'd like to translate them into simple star ratings. A score of 95 or higher counts as 3 stars, a score of at least 85 but less than 95 is 2 stars. Any other score is 1 star.\n",
    "\n",
    "Also, the Canadian Vintners Association bought a lot of ads on the site, so any wines from Canada should automatically get 3 stars, regardless of points.\n",
    "\n",
    "Create a series `star_ratings` with the number of stars corresponding to each review in the dataset."
   ],
   "id": "e2957b5cfa7f6909"
  },
  {
   "metadata": {
    "ExecuteTime": {
     "end_time": "2025-03-09T23:08:56.972797Z",
     "start_time": "2025-03-09T23:08:53.215085Z"
    }
   },
   "cell_type": "code",
   "source": [
    "def stars(row):\n",
    "    if row.country == 'Canada':\n",
    "        return 3\n",
    "    elif row.points >= 95:\n",
    "        return 3\n",
    "    elif row.points >= 85:\n",
    "        return 2\n",
    "    else:\n",
    "        return 1\n",
    "\n",
    "star_ratings = reviews.apply(stars, axis='columns')"
   ],
   "id": "c1864822641e95f3",
   "outputs": [],
   "execution_count": 31
  }
 ],
 "metadata": {
  "kernelspec": {
   "display_name": "Python 3",
   "language": "python",
   "name": "python3"
  },
  "language_info": {
   "codemirror_mode": {
    "name": "ipython",
    "version": 2
   },
   "file_extension": ".py",
   "mimetype": "text/x-python",
   "name": "python",
   "nbconvert_exporter": "python",
   "pygments_lexer": "ipython2",
   "version": "2.7.6"
  }
 },
 "nbformat": 4,
 "nbformat_minor": 5
}
